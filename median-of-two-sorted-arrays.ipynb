{
 "cells": [
  {
   "cell_type": "markdown",
   "metadata": {},
   "source": [
    "There are two sorted arrays `nums1` and `nums2` of size `m` and `n` respectively.\n",
    "\n",
    "Find the median of the two sorted arrays. The overall run time complexity should be O(log (m+n)).\n",
    "\n",
    "Example 1:\n",
    "\n",
    "```\n",
    "nums1 = [1, 3]\n",
    "nums2 = [2]\n",
    "The median is 2.0\n",
    "```\n",
    "\n",
    "Example 2:\n",
    "\n",
    "```\n",
    "nums1 = [1, 2]\n",
    "nums2 = [3, 4]\n",
    "The median is (2 + 3)/2 = 2.5\n",
    "```"
   ]
  },
  {
   "cell_type": "code",
   "execution_count": 1,
   "metadata": {
    "collapsed": true
   },
   "outputs": [],
   "source": [
    "class Solution(object):\n",
    "    def findMedianSortedArrays(self, nums1, nums2):\n",
    "        \"\"\"\n",
    "        :type nums1: List[int]\n",
    "        :type nums2: List[int]\n",
    "        :rtype: float\n",
    "        \"\"\"\n",
    "        # 两个数组无交集：按总数量选择一个或两个元素求平均 O(m+n)，数组长度需要计算\n",
    "        # 两个数组包含\n",
    "        # 两个数组部分交集"
   ]
  },
  {
   "cell_type": "markdown",
   "metadata": {},
   "source": [
    "## 测试用例"
   ]
  },
  {
   "cell_type": "code",
   "execution_count": null,
   "metadata": {
    "collapsed": true
   },
   "outputs": [],
   "source": [
    "import unittest\n",
    "\n",
    "solution = Solution()\n",
    "\n",
    "class TestCase(unittest.TestCase):\n",
    "    def test_twoSum(self):\n",
    "        self.assertEqual(solution.findMedianSortedArrays([1, 3], [2]), 2.0)\n",
    "        self.assertEqual(solution.findMedianSortedArrays([1, 2], [3, 4]), 2.5)\n",
    "\n",
    "unittest.main(argv=['ignored', '-v'], exit=False)"
   ]
  }
 ],
 "metadata": {
  "kernelspec": {
   "display_name": "Python 3",
   "language": "python",
   "name": "python3"
  },
  "language_info": {
   "codemirror_mode": {
    "name": "ipython",
    "version": 3
   },
   "file_extension": ".py",
   "mimetype": "text/x-python",
   "name": "python",
   "nbconvert_exporter": "python",
   "pygments_lexer": "ipython3",
   "version": "3.6.1"
  }
 },
 "nbformat": 4,
 "nbformat_minor": 2
}
