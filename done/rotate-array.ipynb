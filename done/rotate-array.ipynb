{
 "cells": [
  {
   "cell_type": "markdown",
   "metadata": {},
   "source": [
    "Source: https://leetcode.com/problems/rotate-array/\n",
    "\n",
    "Author: Chiyu Zhong\n",
    "\n",
    "Date: 2017-05-19"
   ]
  },
  {
   "cell_type": "markdown",
   "metadata": {
    "collapsed": true
   },
   "source": [
    "Rotate an array of n elements to the right by k steps.\n",
    "\n",
    "For example, with n = 7 and k = 3, the array `[1,2,3,4,5,6,7]` is rotated to `[5,6,7,1,2,3,4]`.\n",
    "\n",
    "Note:\n",
    "Try to come up as many solutions as you can, there are at least 3 different ways to solve this problem."
   ]
  },
  {
   "cell_type": "markdown",
   "metadata": {},
   "source": [
    "## Solution"
   ]
  },
  {
   "cell_type": "markdown",
   "metadata": {},
   "source": [
    "## simple loop"
   ]
  },
  {
   "cell_type": "code",
   "execution_count": 4,
   "metadata": {
    "collapsed": true
   },
   "outputs": [],
   "source": [
    "# problem: Time Limit Exceeded\n",
    "class Solution(object):\n",
    "    def rotate(self, nums, k):\n",
    "        n = len(nums)\n",
    "        k = k % n\n",
    "        for _ in range(k):\n",
    "            last = nums[-1]\n",
    "            for index in range(n - 1, 0, -1):\n",
    "                nums[index] = nums[index - 1]\n",
    "            nums[0] = last"
   ]
  },
  {
   "cell_type": "markdown",
   "metadata": {},
   "source": [
    "## extra clone"
   ]
  },
  {
   "cell_type": "code",
   "execution_count": null,
   "metadata": {
    "collapsed": true
   },
   "outputs": [],
   "source": [
    "# extra clone\n",
    "class Solution(object):\n",
    "    def rotate(self, nums, k):\n",
    "        clone = nums[:]\n",
    "        n = len(nums)\n",
    "        k = k % n\n",
    "        for index in range(n):\n",
    "            nums[index] = clone[index - k if (index - k) >= 0 else (index - k + n)]\n"
   ]
  },
  {
   "cell_type": "markdown",
   "metadata": {},
   "source": [
    "## who take my place"
   ]
  },
  {
   "cell_type": "code",
   "execution_count": null,
   "metadata": {
    "collapsed": true
   },
   "outputs": [],
   "source": [
    "class Solution(object):\n",
    "    def rotate(self, nums, k):\n",
    "        # @var n, length of list\n",
    "        # @var cursor, current calculate position\n",
    "        # @var index, index will be swap into current position\n",
    "        # (index + k) % n = cursor\n",
    "        n = len(nums)\n",
    "        k = k % n\n",
    "        if k > 0:\n",
    "            for cursor in range(n):\n",
    "                index = cursor - k if (cursor - k) >= 0 else (cursor - k + n)\n",
    "                while index < cursor:\n",
    "                    index = index - k if (index - k) >= 0 else (index - k + n)\n",
    "                tmp = nums[index]\n",
    "                nums[index] = nums[cursor]\n",
    "                nums[cursor] = tmp"
   ]
  },
  {
   "cell_type": "markdown",
   "metadata": {},
   "source": [
    "## GCD"
   ]
  },
  {
   "cell_type": "code",
   "execution_count": 2,
   "metadata": {
    "collapsed": true
   },
   "outputs": [],
   "source": [
    "class Solution(object):\n",
    "    def GCD(self, max, min):\n",
    "        if max < min:\n",
    "            tmp = max\n",
    "            max = min\n",
    "            min = tmp\n",
    "        return min if max % min == 0 else self.GCD(min, max % min)\n",
    "\n",
    "    def rotate(self, nums, k):\n",
    "        n = len(nums)\n",
    "        k = k % n\n",
    "        if k > 0 and n > 1:\n",
    "            for cursor in range(self.GCD(n, k)):\n",
    "                last = nums[cursor]\n",
    "                index = (cursor + k) % n\n",
    "                while index != cursor:\n",
    "                    tmp = nums[index]\n",
    "                    nums[index] = last\n",
    "                    last = tmp\n",
    "                    index = (index + k) % n\n",
    "                nums[cursor] = last\n"
   ]
  },
  {
   "cell_type": "markdown",
   "metadata": {},
   "source": [
    "```\n",
    "n = 3\n",
    "k = 2\n",
    "n / k = 1\n",
    "n % k = 1\n",
    "\n",
    "1 3 2\n",
    "\n",
    "---\n",
    "\n",
    "n = 3\n",
    "k = 3\n",
    "n / k = 1\n",
    "n % k = 0\n",
    "\n",
    "1 0 0\n",
    "1 2 0\n",
    "1 2 3\n",
    "\n",
    "n = 4\n",
    "k = 3\n",
    "n / k = 1\n",
    "n % k = 1\n",
    "\n",
    "1 4 3 2\n",
    "\n",
    "n = 5\n",
    "k = 3\n",
    "n / k = 1\n",
    "n % k = 2\n",
    "\n",
    "1 3 5 2 4\n",
    "\n",
    "n = 6\n",
    "k = 3\n",
    "n / k = 2\n",
    "n % k = 0\n",
    "\n",
    "1 0 0 2 0 0\n",
    "1 3 0 2 4 0\n",
    "1 3 5 2 4 6\n",
    "\n",
    "---\n",
    "\n",
    "n = 5\n",
    "k = 4\n",
    "n / k = 1\n",
    "n % k = 1\n",
    "\n",
    "1 5 4 3 2\n",
    "\n",
    "n = 6\n",
    "k = 4\n",
    "n / k = 1\n",
    "n % k = 2\n",
    "\n",
    "1 0 3 0 2 0\n",
    "1 4 3 6 2 5\n",
    "\n",
    "n = 7\n",
    "k = 4\n",
    "n / k = 1\n",
    "n % k = 3\n",
    "\n",
    "1 3 5 7 2 4 6\n",
    "\n",
    "---\n",
    "\n",
    "n = 6\n",
    "k = 5\n",
    "n / k = 1\n",
    "n % k = 1\n",
    "\n",
    "1 6 5 4 3 2\n",
    "\n",
    "n = 7\n",
    "k = 5\n",
    "n / k = 1\n",
    "n % k = 2\n",
    "\n",
    "1 4 7 3 6 2 5\n",
    "\n",
    "n = 8\n",
    "k = 5\n",
    "n / k = 1\n",
    "n % k = 3\n",
    "\n",
    "1 6 3 8 5 2 7 4\n",
    "\n",
    "n = 9\n",
    "k = 5\n",
    "n / k = 1\n",
    "n % k = 4\n",
    "\n",
    "1 3 5 7 9 2 4 6 8\n",
    "\n",
    "---\n",
    "\n",
    "n = 8\n",
    "k = 6\n",
    "n / k = 1\n",
    "n % k = 2\n",
    "\n",
    "1 0 4 0 3 0 2 0\n",
    "1 5 4 8 3 7 2 6\n",
    "\n",
    "---\n",
    "\n",
    "n = 12\n",
    "k = 8\n",
    "n / k = 1\n",
    "n % k = 4\n",
    "\n",
    "1 0 0 0 3 0 0 0 2 0 0 0\n",
    "1 4 0 0 3 6 0 0 2 5 0 0\n",
    "1 4 7 0 3 6 9 0 2 5 8 0\n",
    "1 4 7 10 3 6 9 12 2 5 8 11\n",
    "```\n",
    "\n",
    "Conclusion: Only G.C.D \\(Greatest Common Divisor\\) number of calculation required to rotate array."
   ]
  },
  {
   "cell_type": "markdown",
   "metadata": {},
   "source": [
    "## Test"
   ]
  },
  {
   "cell_type": "code",
   "execution_count": 6,
   "metadata": {},
   "outputs": [
    {
     "name": "stderr",
     "output_type": "stream",
     "text": [
      "test_stuff (__main__.TestCase) ... ok\n",
      "\n",
      "----------------------------------------------------------------------\n",
      "Ran 1 test in 0.002s\n",
      "\n",
      "OK\n"
     ]
    },
    {
     "data": {
      "text/plain": [
       "<unittest.main.TestProgram at 0x10fab45f8>"
      ]
     },
     "execution_count": 6,
     "metadata": {},
     "output_type": "execute_result"
    }
   ],
   "source": [
    "import unittest\n",
    "\n",
    "solution = Solution()\n",
    "\n",
    "class TestCase(unittest.TestCase):\n",
    "    def test_stuff(self):\n",
    "        nums = [1,2,3,4,5,6,7]\n",
    "        k = 3\n",
    "        solution.rotate(nums, k)\n",
    "        self.assertEqual(nums, [5,6,7,1,2,3,4])\n",
    "\n",
    "unittest.main(argv=['ignored', '-v'], exit=False)"
   ]
  }
 ],
 "metadata": {
  "kernelspec": {
   "display_name": "Python 3",
   "language": "python",
   "name": "python3"
  },
  "language_info": {
   "codemirror_mode": {
    "name": "ipython",
    "version": 3
   },
   "file_extension": ".py",
   "mimetype": "text/x-python",
   "name": "python",
   "nbconvert_exporter": "python",
   "pygments_lexer": "ipython3",
   "version": "3.7.1"
  }
 },
 "nbformat": 4,
 "nbformat_minor": 2
}
