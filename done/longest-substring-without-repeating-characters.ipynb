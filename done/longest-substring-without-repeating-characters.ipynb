{
 "cells": [
  {
   "cell_type": "markdown",
   "metadata": {},
   "source": [
    "Source: https://leetcode.com/problems/longest-substring-without-repeating-characters/\n",
    "\n",
    "Author: Chiyu Zhong\n",
    "\n",
    "Date: 2017-05-23"
   ]
  },
  {
   "cell_type": "markdown",
   "metadata": {},
   "source": [
    "Given a string, find the length of the **longest substring** without repeating characters.\n",
    "\n",
    "Examples:\n",
    "\n",
    "Given `\"abcabcbb\"`, the answer is `\"abc\"`, which the length is 3.\n",
    "\n",
    "Given `\"bbbbb\"`, the answer is `\"b\"`, with the length of 1.\n",
    "\n",
    "Given `\"pwwkew\"`, the answer is `\"wke\"`, with the length of 3. Note that the answer must be a substring, `\"pwke\"` is a subsequence and not a substring."
   ]
  },
  {
   "cell_type": "markdown",
   "metadata": {},
   "source": [
    "## Solution"
   ]
  },
  {
   "cell_type": "code",
   "execution_count": null,
   "metadata": {
    "collapsed": true
   },
   "outputs": [],
   "source": [
    "class Solution(object):\n",
    "    def lengthOfLongestSubstring(self, s):\n",
    "        \"\"\"\n",
    "        :type s: str\n",
    "        :rtype: int\n",
    "        \"\"\"\n",
    "        # 遍历字符串，计算从当前字符开始的最长不重复字符\n",
    "        # 通过无脑遍历解决问题，时间复杂度 O(n)，在 leetcode 上执行会出现 Time Limit Exceeded\n",
    "        maxlength = 0\n",
    "        for i in range(len(s)):\n",
    "            d = {}\n",
    "            for j in range(i, len(s)):\n",
    "                c = s[j]\n",
    "                length = 0\n",
    "                if c in d:\n",
    "                    length = j - i\n",
    "                    maxlength = max(length, maxlength)\n",
    "                    break\n",
    "                elif j == len(s) - 1:\n",
    "                    length = j - i + 1\n",
    "                    maxlength = max(length, maxlength)\n",
    "                    break\n",
    "                else:\n",
    "                    d[c] = 1\n",
    "        return maxlength\n",
    "    \n",
    "    def max(self, a, b):\n",
    "        return a if a > b else b"
   ]
  },
  {
   "cell_type": "code",
   "execution_count": null,
   "metadata": {
    "collapsed": true
   },
   "outputs": [],
   "source": [
    "class Solution(object):\n",
    "    def lengthOfLongestSubstring(self, s):\n",
    "        \"\"\"\n",
    "        :type s: str\n",
    "        :rtype: int\n",
    "        \"\"\"\n",
    "        # 使用动态规划（Dynamic Programming，or DP）\n",
    "        # Sliding Window\n",
    "        # 在遍历字符串过程中，计算后续字符的最长子串可以直接使用先前对比结果。通过『滑动窗口』计算非重复子串\n",
    "        n = len(s)\n",
    "        i = 0\n",
    "        j = 0\n",
    "        maxlength = 0\n",
    "        d = {}\n",
    "        while i < n and j < n:\n",
    "            if s[j] in d:\n",
    "                del d[s[i]]\n",
    "                i = i + 1\n",
    "            else:\n",
    "                d[s[j]] = True\n",
    "                maxlength = max(j - i + 1, maxlength)\n",
    "                j = j + 1\n",
    "        return maxlength\n",
    "    \n",
    "    def max(self, a, b):\n",
    "        return a if a > b else b"
   ]
  },
  {
   "cell_type": "code",
   "execution_count": null,
   "metadata": {
    "collapsed": true
   },
   "outputs": [],
   "source": [
    "class Solution(object):\n",
    "    def lengthOfLongestSubstring(self, s):\n",
    "        \"\"\"\n",
    "        :type s: str\n",
    "        :rtype: int\n",
    "        \"\"\"\n",
    "        # Sliding Window Optimized\n",
    "        # 原先的 Sliding Window 方案单步增加起始索引，其实可以通过哈希表记录当前重复字符上次出现的位置\n",
    "        n = len(s)\n",
    "        i = 0\n",
    "        j = 0\n",
    "        maxlength = 0\n",
    "        d = {}\n",
    "        while i < n and j < n:\n",
    "            if s[j] in d and d[s[j]] >= i and d[s[j]] < j:\n",
    "                i = d[s[j]] + 1\n",
    "            else:\n",
    "                d[s[j]] = j\n",
    "                maxlength = max(j - i + 1, maxlength)\n",
    "                j = j + 1\n",
    "        return maxlength\n",
    "    \n",
    "    def max(self, a, b):\n",
    "        return a if a > b else b        \n"
   ]
  },
  {
   "cell_type": "markdown",
   "metadata": {},
   "source": [
    "## Test"
   ]
  },
  {
   "cell_type": "code",
   "execution_count": null,
   "metadata": {},
   "outputs": [],
   "source": [
    "import unittest\n",
    "\n",
    "solution = Solution()\n",
    "\n",
    "class TestCase(unittest.TestCase):\n",
    "    def test_stuff(self):\n",
    "        self.assertEqual(solution.lengthOfLongestSubstring('abcabcbb'), 3)\n",
    "        self.assertEqual(solution.lengthOfLongestSubstring('bbbbb'), 1)\n",
    "        self.assertEqual(solution.lengthOfLongestSubstring('pwwkew'), 3)\n",
    "        self.assertEqual(solution.lengthOfLongestSubstring('aab'), 2)\n",
    "        self.assertEqual(solution.lengthOfLongestSubstring('uqinntq'), 4)\n",
    "        self.assertEqual(solution.lengthOfLongestSubstring('abcdefghijklmnopqrstuvwxyzABCDEFGHIJKLMNOPQRSTUVWXYZ0123456789!\\\"#$%&\\'()*+,-./:;<=>?@[\\\\]^_`{|}~ abcde'), 95)\n",
    "\n",
    "unittest.main(argv=['ignored', '-v'], exit=False)"
   ]
  }
 ],
 "metadata": {
  "kernelspec": {
   "display_name": "Python 3",
   "language": "python",
   "name": "python3"
  },
  "language_info": {
   "codemirror_mode": {
    "name": "ipython",
    "version": 3
   },
   "file_extension": ".py",
   "mimetype": "text/x-python",
   "name": "python",
   "nbconvert_exporter": "python",
   "pygments_lexer": "ipython3",
   "version": "3.7.1"
  }
 },
 "nbformat": 4,
 "nbformat_minor": 2
}
