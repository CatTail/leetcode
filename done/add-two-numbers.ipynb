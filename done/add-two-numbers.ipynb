{
 "cells": [
  {
   "cell_type": "markdown",
   "metadata": {},
   "source": [
    "Source: https://leetcode.com/problems/add-two-numbers/\n",
    "\n",
    "Author: Chiyu Zhong\n",
    "\n",
    "Date: 2017-05-19"
   ]
  },
  {
   "cell_type": "markdown",
   "metadata": {},
   "source": [
    "You are given two **non-empty** linked lists representing two non-negative integers. The digits are stored in reverse order and each of their nodes contain a single digit. Add the two numbers and return it as a linked list.\n",
    "\n",
    "You may assume the two numbers do not contain any leading zero, except the number 0 itself.\n",
    "\n",
    "Example:\n",
    "\n",
    "```\n",
    "Input: (2 -> 4 -> 3) + (5 -> 6 -> 4)\n",
    "Output: 7 -> 0 -> 8\n",
    "Explanation: 342 + 465 = 807.\n",
    "```"
   ]
  },
  {
   "cell_type": "markdown",
   "metadata": {},
   "source": [
    "## Solution"
   ]
  },
  {
   "cell_type": "code",
   "execution_count": 11,
   "metadata": {
    "collapsed": true
   },
   "outputs": [],
   "source": [
    "# Definition for singly-linked list.\n",
    "class ListNode(object):\n",
    "    def __init__(self, x):\n",
    "        self.val = x\n",
    "        self.next = None\n",
    "    \n",
    "    # 用于测试用例\n",
    "    def __str__(self):\n",
    "        string = ''\n",
    "        cur = self\n",
    "        while cur != None:\n",
    "            string = string + str(cur.val)\n",
    "            cur = cur.next\n",
    "        return string\n",
    "\n",
    "class Solution(object):\n",
    "    def addTwoNumbers(self, l1, l2):\n",
    "        \"\"\"\n",
    "        :type l1: ListNode\n",
    "        :type l2: ListNode\n",
    "        :rtype: ListNode\n",
    "        \"\"\"\n",
    "        # 链表以反序表示数字，求和过程中位已经对齐\n",
    "        # 取模进位\n",
    "        # 链表长度不同，短链表缺少节点按 0 计\n",
    "        # 同时到达两个链表尾节点时结束（可能有进位）\n",
    "        c1 = l1\n",
    "        c2 = l2\n",
    "        div = 0\n",
    "        # hack，创建空头列表，返回第二个节点\n",
    "        lr = ListNode(0)\n",
    "        cur = lr\n",
    "        while c1 != None or c2 != None:\n",
    "            v1 = 0\n",
    "            v2 = 0\n",
    "            if c1 != None:\n",
    "                v1 = c1.val\n",
    "                c1 = c1.next\n",
    "            if c2 != None:\n",
    "                v2 = c2.val\n",
    "                c2 = c2.next\n",
    "            s = v1 + v2 + div\n",
    "            div = (s) // 10            \n",
    "            cur.next = ListNode(s % 10)\n",
    "            cur = cur.next\n",
    "        if div != 0:\n",
    "            cur.next = ListNode(div)\n",
    "        return lr.next"
   ]
  },
  {
   "cell_type": "markdown",
   "metadata": {},
   "source": [
    "## Test"
   ]
  },
  {
   "cell_type": "code",
   "execution_count": 12,
   "metadata": {},
   "outputs": [
    {
     "name": "stderr",
     "output_type": "stream",
     "text": [
      "test_stuff (__main__.TestCase) ... ok\n",
      "\n",
      "----------------------------------------------------------------------\n",
      "Ran 1 test in 0.002s\n",
      "\n",
      "OK\n"
     ]
    },
    {
     "data": {
      "text/plain": [
       "<unittest.main.TestProgram at 0x1038d9390>"
      ]
     },
     "execution_count": 12,
     "metadata": {},
     "output_type": "execute_result"
    }
   ],
   "source": [
    "import unittest\n",
    "\n",
    "solution = Solution()\n",
    "\n",
    "def createNumber(*digits):\n",
    "    head = ListNode(digits[0])\n",
    "    cur = head\n",
    "    for index in range(1, len(digits)):\n",
    "        cur.next = ListNode(digits[index])\n",
    "        cur = cur.next\n",
    "    return head\n",
    "\n",
    "class TestCase(unittest.TestCase):\n",
    "    def test_stuff(self):\n",
    "        self.assertEqual(str(solution.addTwoNumbers(createNumber(2, 4, 3), createNumber(5, 6, 4))), str(createNumber(7, 0, 8)))\n",
    "        self.assertEqual(str(solution.addTwoNumbers(createNumber(1, 8), createNumber(0))), str(createNumber(1, 8)))\n",
    "\n",
    "unittest.main(argv=['ignored', '-v'], exit=False)"
   ]
  }
 ],
 "metadata": {
  "kernelspec": {
   "display_name": "Python 3",
   "language": "python",
   "name": "python3"
  },
  "language_info": {
   "codemirror_mode": {
    "name": "ipython",
    "version": 3
   },
   "file_extension": ".py",
   "mimetype": "text/x-python",
   "name": "python",
   "nbconvert_exporter": "python",
   "pygments_lexer": "ipython3",
   "version": "3.7.1"
  }
 },
 "nbformat": 4,
 "nbformat_minor": 2
}
