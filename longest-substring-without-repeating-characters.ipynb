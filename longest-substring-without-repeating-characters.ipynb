{
 "cells": [
  {
   "cell_type": "markdown",
   "metadata": {},
   "source": [
    "Given a string, find the length of the **longest substring** without repeating characters.\n",
    "\n",
    "Examples:\n",
    "\n",
    "Given `\"abcabcbb\"`, the answer is `\"abc\"`, which the length is 3.\n",
    "\n",
    "Given `\"bbbbb\"`, the answer is `\"b\"`, with the length of 1.\n",
    "\n",
    "Given `\"pwwkew\"`, the answer is `\"wke\"`, with the length of 3. Note that the answer must be a substring, `\"pwke\"` is a subsequence and not a substring."
   ]
  },
  {
   "cell_type": "code",
   "execution_count": 2,
   "metadata": {
    "collapsed": true
   },
   "outputs": [],
   "source": [
    "class Solution(object):\n",
    "    def lengthOfLongestSubstring(self, s):\n",
    "        \"\"\"\n",
    "        :type s: str\n",
    "        :rtype: int\n",
    "        \"\"\"\n",
    "        # a = 1\n",
    "        # aa = 1\n",
    "        # ab = 2\n",
    "        # aaa = 1\n",
    "        # aab = 2\n",
    "        # aba = 2\n",
    "        # abb = 2\n",
    "        # abc = 3\n",
    "        # abcdaee + f\n",
    "        \n",
    "        # 当出现重复字符时，出现最长子串\n",
    "        # 当重复字符包含时，交集是最长子串；当部分重叠时或无重叠时，两者这更长子串为最长子串\n",
    "        # 复杂度：O(n)\n",
    "        # 遍历字符串\n",
    "        # longest(s) = longest(s[:-1]) + x\n",
    "        # x = 1 如果 longest(s[:-1]) 和 s[length-1] 相邻，且和 s[:-1] 都不相同\n",
    "        # 通过哈希存储字符上次出现索引，并更新该索引\n",
    "        # 记录最长子串长度\n",
    "        # 最长子串长度是结束字符索引减去上次出现该结束字符索引，如果该字符第一次出现，前面所有子串为最长子串\n",
    "        d = {}\n",
    "        a = []\n",
    "        maxlength = 0\n",
    "        for i in range(len(s)):\n",
    "            c = s[i]\n",
    "            length = i - d[c] if c in d else i + 1\n",
    "            if length > maxlength:\n",
    "                maxlength = length\n",
    "            d[c] = i\n",
    "            a[i] = maxLength\n",
    "        return maxlength"
   ]
  },
  {
   "cell_type": "markdown",
   "metadata": {},
   "source": [
    "## 测试用例"
   ]
  },
  {
   "cell_type": "code",
   "execution_count": 3,
   "metadata": {},
   "outputs": [
    {
     "name": "stderr",
     "output_type": "stream",
     "text": [
      "test_stuff (__main__.TestCase) ... FAIL\n",
      "\n",
      "======================================================================\n",
      "FAIL: test_stuff (__main__.TestCase)\n",
      "----------------------------------------------------------------------\n",
      "Traceback (most recent call last):\n",
      "  File \"<ipython-input-3-40e657a0053c>\", line 9, in test_stuff\n",
      "    self.assertEqual(solution.lengthOfLongestSubstring('pwwkew'), 3)\n",
      "AssertionError: 5 != 3\n",
      "\n",
      "----------------------------------------------------------------------\n",
      "Ran 1 test in 0.003s\n",
      "\n",
      "FAILED (failures=1)\n"
     ]
    },
    {
     "data": {
      "text/plain": [
       "<unittest.main.TestProgram at 0x105759a58>"
      ]
     },
     "execution_count": 3,
     "metadata": {},
     "output_type": "execute_result"
    }
   ],
   "source": [
    "import unittest\n",
    "\n",
    "solution = Solution()\n",
    "\n",
    "class TestCase(unittest.TestCase):\n",
    "    def test_stuff(self):\n",
    "        self.assertEqual(solution.lengthOfLongestSubstring('abcabcbb'), 3)\n",
    "        self.assertEqual(solution.lengthOfLongestSubstring('bbbbb'), 1)\n",
    "        self.assertEqual(solution.lengthOfLongestSubstring('pwwkew'), 3)\n",
    "\n",
    "unittest.main(argv=['ignored', '-v'], exit=False)"
   ]
  }
 ],
 "metadata": {
  "kernelspec": {
   "display_name": "Python 3",
   "language": "python",
   "name": "python3"
  },
  "language_info": {
   "codemirror_mode": {
    "name": "ipython",
    "version": 3
   },
   "file_extension": ".py",
   "mimetype": "text/x-python",
   "name": "python",
   "nbconvert_exporter": "python",
   "pygments_lexer": "ipython3",
   "version": "3.6.1"
  }
 },
 "nbformat": 4,
 "nbformat_minor": 2
}
